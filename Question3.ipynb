{
 "cells": [
  {
   "cell_type": "markdown",
   "metadata": {},
   "source": [
    "### For each zipcode find which other zipcode they are most and least similar to.  Does this change over time?  If so, how.\n",
    "\n",
    "We can think of zip code similarities on the basis of complaint type. If two zipdcodes have almost same complaint type count then probabliity of the zip code to be similar is high.\n",
    "First identify top complaints in total "
   ]
  },
  {
   "cell_type": "code",
   "execution_count": 8,
   "metadata": {},
   "outputs": [
    {
     "data": {
      "text/html": [
       "<div>\n",
       "<style scoped>\n",
       "    .dataframe tbody tr th:only-of-type {\n",
       "        vertical-align: middle;\n",
       "    }\n",
       "\n",
       "    .dataframe tbody tr th {\n",
       "        vertical-align: top;\n",
       "    }\n",
       "\n",
       "    .dataframe thead th {\n",
       "        text-align: right;\n",
       "    }\n",
       "</style>\n",
       "<table border=\"1\" class=\"dataframe\">\n",
       "  <thead>\n",
       "    <tr style=\"text-align: right;\">\n",
       "      <th></th>\n",
       "      <th>unique_key</th>\n",
       "      <th>created_date</th>\n",
       "      <th>closed_date</th>\n",
       "      <th>agency</th>\n",
       "      <th>agency_name</th>\n",
       "      <th>complaint_type</th>\n",
       "      <th>descriptor</th>\n",
       "      <th>location_type</th>\n",
       "      <th>incident_zip</th>\n",
       "      <th>city</th>\n",
       "      <th>...</th>\n",
       "      <th>vehicle_type</th>\n",
       "      <th>taxi_company_borough</th>\n",
       "      <th>taxi_pick_up_location</th>\n",
       "      <th>bridge_highway_name</th>\n",
       "      <th>bridge_highway_direction</th>\n",
       "      <th>road_ramp</th>\n",
       "      <th>bridge_highway_segment</th>\n",
       "      <th>latitude</th>\n",
       "      <th>longitude</th>\n",
       "      <th>location</th>\n",
       "    </tr>\n",
       "  </thead>\n",
       "  <tbody>\n",
       "    <tr>\n",
       "      <td>0</td>\n",
       "      <td>20122810</td>\n",
       "      <td>03/28/2011 11:20:53 AM</td>\n",
       "      <td>04/13/2011 10:40:27 AM</td>\n",
       "      <td>DOF</td>\n",
       "      <td>Senior Citizen Rent Increase Exemption Unit</td>\n",
       "      <td>SCRIE</td>\n",
       "      <td>SCRIE Assistance</td>\n",
       "      <td>Address Unknown</td>\n",
       "      <td>NaN</td>\n",
       "      <td>NaN</td>\n",
       "      <td>...</td>\n",
       "      <td>NaN</td>\n",
       "      <td>NaN</td>\n",
       "      <td>NaN</td>\n",
       "      <td>NaN</td>\n",
       "      <td>NaN</td>\n",
       "      <td>NaN</td>\n",
       "      <td>NaN</td>\n",
       "      <td>NaN</td>\n",
       "      <td>NaN</td>\n",
       "      <td>NaN</td>\n",
       "    </tr>\n",
       "    <tr>\n",
       "      <td>1</td>\n",
       "      <td>20122811</td>\n",
       "      <td>03/28/2011 11:12:27 PM</td>\n",
       "      <td>03/29/2011 05:07:13 AM</td>\n",
       "      <td>NYPD</td>\n",
       "      <td>New York City Police Department</td>\n",
       "      <td>Illegal Parking</td>\n",
       "      <td>Posted Parking Sign Violation</td>\n",
       "      <td>Street/Sidewalk</td>\n",
       "      <td>11216.0</td>\n",
       "      <td>BROOKLYN</td>\n",
       "      <td>...</td>\n",
       "      <td>NaN</td>\n",
       "      <td>NaN</td>\n",
       "      <td>NaN</td>\n",
       "      <td>NaN</td>\n",
       "      <td>NaN</td>\n",
       "      <td>NaN</td>\n",
       "      <td>NaN</td>\n",
       "      <td>40.690123</td>\n",
       "      <td>-73.949135</td>\n",
       "      <td>(40.69012317171803, -73.94913492072885)</td>\n",
       "    </tr>\n",
       "    <tr>\n",
       "      <td>2</td>\n",
       "      <td>20122812</td>\n",
       "      <td>03/28/2011 04:12:08 PM</td>\n",
       "      <td>03/28/2011 08:03:39 PM</td>\n",
       "      <td>DOF</td>\n",
       "      <td>Senior Citizen Rent Increase Exemption Unit</td>\n",
       "      <td>SCRIE</td>\n",
       "      <td>SCRIE Assistance</td>\n",
       "      <td>Senior Address</td>\n",
       "      <td>10012.0</td>\n",
       "      <td>NEW YORK</td>\n",
       "      <td>...</td>\n",
       "      <td>NaN</td>\n",
       "      <td>NaN</td>\n",
       "      <td>NaN</td>\n",
       "      <td>NaN</td>\n",
       "      <td>NaN</td>\n",
       "      <td>NaN</td>\n",
       "      <td>NaN</td>\n",
       "      <td>NaN</td>\n",
       "      <td>NaN</td>\n",
       "      <td>NaN</td>\n",
       "    </tr>\n",
       "    <tr>\n",
       "      <td>3</td>\n",
       "      <td>20122813</td>\n",
       "      <td>03/28/2011 06:25:54 PM</td>\n",
       "      <td>03/28/2011 07:25:59 PM</td>\n",
       "      <td>DOF</td>\n",
       "      <td>Senior Citizen Rent Increase Exemption Unit</td>\n",
       "      <td>SCRIE</td>\n",
       "      <td>SCRIE Assistance</td>\n",
       "      <td>Senior Address</td>\n",
       "      <td>10456.0</td>\n",
       "      <td>BRONX</td>\n",
       "      <td>...</td>\n",
       "      <td>NaN</td>\n",
       "      <td>NaN</td>\n",
       "      <td>NaN</td>\n",
       "      <td>NaN</td>\n",
       "      <td>NaN</td>\n",
       "      <td>NaN</td>\n",
       "      <td>NaN</td>\n",
       "      <td>NaN</td>\n",
       "      <td>NaN</td>\n",
       "      <td>NaN</td>\n",
       "    </tr>\n",
       "    <tr>\n",
       "      <td>4</td>\n",
       "      <td>20122814</td>\n",
       "      <td>03/28/2011 04:16:51 PM</td>\n",
       "      <td>03/28/2011 07:52:23 PM</td>\n",
       "      <td>DOF</td>\n",
       "      <td>Senior Citizen Rent Increase Exemption Unit</td>\n",
       "      <td>SCRIE</td>\n",
       "      <td>SCRIE Assistance</td>\n",
       "      <td>Senior Address</td>\n",
       "      <td>10023.0</td>\n",
       "      <td>NEW YORK</td>\n",
       "      <td>...</td>\n",
       "      <td>NaN</td>\n",
       "      <td>NaN</td>\n",
       "      <td>NaN</td>\n",
       "      <td>NaN</td>\n",
       "      <td>NaN</td>\n",
       "      <td>NaN</td>\n",
       "      <td>NaN</td>\n",
       "      <td>NaN</td>\n",
       "      <td>NaN</td>\n",
       "      <td>NaN</td>\n",
       "    </tr>\n",
       "  </tbody>\n",
       "</table>\n",
       "<p>5 rows × 27 columns</p>\n",
       "</div>"
      ],
      "text/plain": [
       "   unique_key            created_date             closed_date agency  \\\n",
       "0    20122810  03/28/2011 11:20:53 AM  04/13/2011 10:40:27 AM    DOF   \n",
       "1    20122811  03/28/2011 11:12:27 PM  03/29/2011 05:07:13 AM   NYPD   \n",
       "2    20122812  03/28/2011 04:12:08 PM  03/28/2011 08:03:39 PM    DOF   \n",
       "3    20122813  03/28/2011 06:25:54 PM  03/28/2011 07:25:59 PM    DOF   \n",
       "4    20122814  03/28/2011 04:16:51 PM  03/28/2011 07:52:23 PM    DOF   \n",
       "\n",
       "                                   agency_name   complaint_type  \\\n",
       "0  Senior Citizen Rent Increase Exemption Unit            SCRIE   \n",
       "1              New York City Police Department  Illegal Parking   \n",
       "2  Senior Citizen Rent Increase Exemption Unit            SCRIE   \n",
       "3  Senior Citizen Rent Increase Exemption Unit            SCRIE   \n",
       "4  Senior Citizen Rent Increase Exemption Unit            SCRIE   \n",
       "\n",
       "                      descriptor    location_type  incident_zip      city  \\\n",
       "0               SCRIE Assistance  Address Unknown           NaN       NaN   \n",
       "1  Posted Parking Sign Violation  Street/Sidewalk       11216.0  BROOKLYN   \n",
       "2               SCRIE Assistance   Senior Address       10012.0  NEW YORK   \n",
       "3               SCRIE Assistance   Senior Address       10456.0     BRONX   \n",
       "4               SCRIE Assistance   Senior Address       10023.0  NEW YORK   \n",
       "\n",
       "   ... vehicle_type taxi_company_borough taxi_pick_up_location  \\\n",
       "0  ...          NaN                  NaN                   NaN   \n",
       "1  ...          NaN                  NaN                   NaN   \n",
       "2  ...          NaN                  NaN                   NaN   \n",
       "3  ...          NaN                  NaN                   NaN   \n",
       "4  ...          NaN                  NaN                   NaN   \n",
       "\n",
       "  bridge_highway_name bridge_highway_direction road_ramp  \\\n",
       "0                 NaN                      NaN       NaN   \n",
       "1                 NaN                      NaN       NaN   \n",
       "2                 NaN                      NaN       NaN   \n",
       "3                 NaN                      NaN       NaN   \n",
       "4                 NaN                      NaN       NaN   \n",
       "\n",
       "  bridge_highway_segment   latitude  longitude  \\\n",
       "0                    NaN        NaN        NaN   \n",
       "1                    NaN  40.690123 -73.949135   \n",
       "2                    NaN        NaN        NaN   \n",
       "3                    NaN        NaN        NaN   \n",
       "4                    NaN        NaN        NaN   \n",
       "\n",
       "                                  location  \n",
       "0                                      NaN  \n",
       "1  (40.69012317171803, -73.94913492072885)  \n",
       "2                                      NaN  \n",
       "3                                      NaN  \n",
       "4                                      NaN  \n",
       "\n",
       "[5 rows x 27 columns]"
      ]
     },
     "execution_count": 8,
     "metadata": {},
     "output_type": "execute_result"
    }
   ],
   "source": [
    "# Load it into a Dataframe using pandas\n",
    "import pandas as pd\n",
    "path = '311_filtered.csv'\n",
    "df = pd.read_csv(path, low_memory=False, na_values = ['NO CLUE', 'N/A', '0'])\n",
    "df.head()"
   ]
  },
  {
   "cell_type": "code",
   "execution_count": 9,
   "metadata": {},
   "outputs": [
    {
     "data": {
      "text/html": [
       "<div>\n",
       "<style scoped>\n",
       "    .dataframe tbody tr th:only-of-type {\n",
       "        vertical-align: middle;\n",
       "    }\n",
       "\n",
       "    .dataframe tbody tr th {\n",
       "        vertical-align: top;\n",
       "    }\n",
       "\n",
       "    .dataframe thead th {\n",
       "        text-align: right;\n",
       "    }\n",
       "</style>\n",
       "<table border=\"1\" class=\"dataframe\">\n",
       "  <thead>\n",
       "    <tr style=\"text-align: right;\">\n",
       "      <th></th>\n",
       "      <th>complaint_type</th>\n",
       "      <th>count</th>\n",
       "    </tr>\n",
       "  </thead>\n",
       "  <tbody>\n",
       "    <tr>\n",
       "      <td>0</td>\n",
       "      <td>Noise  Residential</td>\n",
       "      <td>1762342</td>\n",
       "    </tr>\n",
       "    <tr>\n",
       "      <td>1</td>\n",
       "      <td>HEATHOT WATER</td>\n",
       "      <td>1157250</td>\n",
       "    </tr>\n",
       "    <tr>\n",
       "      <td>2</td>\n",
       "      <td>Street Condition</td>\n",
       "      <td>950201</td>\n",
       "    </tr>\n",
       "    <tr>\n",
       "      <td>3</td>\n",
       "      <td>Street Light Condition</td>\n",
       "      <td>901576</td>\n",
       "    </tr>\n",
       "    <tr>\n",
       "      <td>4</td>\n",
       "      <td>Blocked Driveway</td>\n",
       "      <td>889614</td>\n",
       "    </tr>\n",
       "  </tbody>\n",
       "</table>\n",
       "</div>"
      ],
      "text/plain": [
       "           complaint_type    count\n",
       "0      Noise  Residential  1762342\n",
       "1           HEATHOT WATER  1157250\n",
       "2        Street Condition   950201\n",
       "3  Street Light Condition   901576\n",
       "4        Blocked Driveway   889614"
      ]
     },
     "execution_count": 9,
     "metadata": {},
     "output_type": "execute_result"
    }
   ],
   "source": [
    "# find top complaint types\n",
    "top_complaint = df['complaint_type'].groupby(df['complaint_type']).count().sort_values(ascending=False).reset_index(name='count')\n",
    "top_complaint.head()"
   ]
  },
  {
   "cell_type": "code",
   "execution_count": 16,
   "metadata": {},
   "outputs": [
    {
     "data": {
      "text/plain": [
       "array(['Noise  Vehicle', 'Noise  Residential', 'Noise  StreetSidewalk',\n",
       "       'Noise', 'Noise  Park', 'Noise  Commercial', 'Noise  Helicopter',\n",
       "       'Noise  House of Worship', 'Noise Survey',\n",
       "       'Collection Truck Noise'], dtype=object)"
      ]
     },
     "execution_count": 16,
     "metadata": {},
     "output_type": "execute_result"
    }
   ],
   "source": [
    "# Keep noise related data in a seperate dataframe\n",
    "df_noise = df[df['complaint_type'].str.contains(\"Noise\", na=False)]\n",
    "df_noise['complaint_type'].unique()"
   ]
  },
  {
   "cell_type": "code",
   "execution_count": 17,
   "metadata": {},
   "outputs": [
    {
     "name": "stdout",
     "output_type": "stream",
     "text": [
      "The 235 zips of NYC are: \n",
      "[11412.0, 10310.0, 11226.0, 11377.0, 10465.0, 11373.0, 10452.0, 11204.0, 11370.0, 10462.0, 10473.0, 11206.0, 10040.0, 11221.0, 11374.0, 10467.0, 10009.0, 10026.0, 11212.0, 11223.0, 10065.0, 11372.0, 10039.0, 11693.0, 11220.0, 10128.0, 11209.0, 10468.0, 11205.0, 10029.0, 10022.0, 11217.0, 10472.0, 11216.0, 11213.0, 10034.0, 11230.0, 11378.0, 11235.0, 10025.0, 10455.0, 10461.0, 11229.0, 11432.0, 11219.0, 10454.0, 10457.0, 10016.0, 10013.0, 11375.0, 10014.0, 11385.0, 10011.0, 11222.0, 10017.0, 10003.0, 11231.0, 10024.0, 10033.0, 10032.0, 11434.0, 11211.0, 10007.0, 10023.0, 10001.0, 10036.0, 10010.0, 11367.0, 10012.0, 11001.0, 11109.0, 10027.0, 10035.0, 10019.0, 10002.0, 10028.0, 11435.0, 11413.0, 11207.0, 11214.0, 10469.0, 11354.0, 11415.0, 10458.0, 10030.0, 11106.0, 10301.0, 11419.0, 10453.0, 11237.0, 10304.0, 11208.0, 10459.0, 11355.0, 11429.0, 11691.0, 10451.0, 11234.0, 10031.0, 10463.0, 11236.0, 11358.0, 11422.0, 10037.0, 11104.0, 11203.0, 11210.0, 11368.0, 11201.0, 11224.0, 10466.0, 10456.0, 11365.0, 11225.0, 10474.0, 11215.0, 11218.0, 10471.0, 11103.0, 11238.0, 10303.0, 10460.0, 11004.0, 11233.0, 10005.0, 11228.0, 10004.0, 11414.0, 10464.0, 11366.0, 11427.0, 11411.0, 11418.0, 10021.0, 11420.0, 10038.0, 11369.0, 10018.0, 10305.0, 10312.0, 10314.0, 11694.0, 10075.0, 10006.0, 11105.0, 11232.0, 11421.0, 11433.0, 11379.0, 11102.0, 10306.0, 10470.0, 11101.0, 10280.0, 11360.0, 10302.0, 11436.0, 11357.0, 11423.0, 11243.0, 11417.0, 11692.0, 11361.0, 10307.0, 11428.0, 11416.0, 10475.0, 10309.0, 11356.0, 11364.0, 10000.0, 10048.0, 11239.0, 11426.0, 10308.0, 11249.0, 11363.0, 10162.0, 11362.0, 10281.0, 10282.0, 10020.0, 10045.0, 11040.0, 10069.0, 10044.0, 11697.0, 11430.0, 11005.0, 83.0, 10177.0, 10121.0, 11242.0, 10118.0, 10129.0, 10119.0, 10153.0, 10112.0, 10803.0, 10103.0, 11241.0, 10107.0, 10168.0, 10178.0, 10278.0, 10171.0, 12345.0, 10041.0, 10110.0, 10122.0, 10154.0, 10271.0, 10165.0, 10158.0, 10105.0, 10106.0, 10155.0, 10174.0, 11695.0, 10120.0, 10152.0, 10123.0, 10172.0, 10170.0, 10279.0, 11359.0, 10115.0, 10167.0, 10111.0, 10583.0, 10169.0, 10176.0, 10173.0, 11096.0, 11371.0]\n"
     ]
    }
   ],
   "source": [
    "# list the names of zips\n",
    "# Create a list of unique values of districts excluding nulls\n",
    "zips = [i for i in df_noise['incident_zip'].unique() if pd.notnull(i)]\n",
    "print('The %d zips of NYC are: \\n%s' % (len(zips), zips))"
   ]
  },
  {
   "cell_type": "code",
   "execution_count": 19,
   "metadata": {},
   "outputs": [
    {
     "data": {
      "text/html": [
       "<div>\n",
       "<style scoped>\n",
       "    .dataframe tbody tr th:only-of-type {\n",
       "        vertical-align: middle;\n",
       "    }\n",
       "\n",
       "    .dataframe tbody tr th {\n",
       "        vertical-align: top;\n",
       "    }\n",
       "\n",
       "    .dataframe thead th {\n",
       "        text-align: right;\n",
       "    }\n",
       "</style>\n",
       "<table border=\"1\" class=\"dataframe\">\n",
       "  <thead>\n",
       "    <tr style=\"text-align: right;\">\n",
       "      <th></th>\n",
       "      <th>complaint_type</th>\n",
       "      <th>count</th>\n",
       "    </tr>\n",
       "  </thead>\n",
       "  <tbody>\n",
       "    <tr>\n",
       "      <td>0</td>\n",
       "      <td>Noise  Residential</td>\n",
       "      <td>1762342</td>\n",
       "    </tr>\n",
       "    <tr>\n",
       "      <td>1</td>\n",
       "      <td>Noise</td>\n",
       "      <td>469916</td>\n",
       "    </tr>\n",
       "    <tr>\n",
       "      <td>2</td>\n",
       "      <td>Noise  StreetSidewalk</td>\n",
       "      <td>462639</td>\n",
       "    </tr>\n",
       "    <tr>\n",
       "      <td>3</td>\n",
       "      <td>Noise  Commercial</td>\n",
       "      <td>341506</td>\n",
       "    </tr>\n",
       "    <tr>\n",
       "      <td>4</td>\n",
       "      <td>Noise  Vehicle</td>\n",
       "      <td>210541</td>\n",
       "    </tr>\n",
       "    <tr>\n",
       "      <td>5</td>\n",
       "      <td>Noise  Park</td>\n",
       "      <td>35084</td>\n",
       "    </tr>\n",
       "    <tr>\n",
       "      <td>6</td>\n",
       "      <td>Noise Survey</td>\n",
       "      <td>16303</td>\n",
       "    </tr>\n",
       "    <tr>\n",
       "      <td>7</td>\n",
       "      <td>Noise  Helicopter</td>\n",
       "      <td>10933</td>\n",
       "    </tr>\n",
       "    <tr>\n",
       "      <td>8</td>\n",
       "      <td>Noise  House of Worship</td>\n",
       "      <td>9590</td>\n",
       "    </tr>\n",
       "    <tr>\n",
       "      <td>9</td>\n",
       "      <td>Collection Truck Noise</td>\n",
       "      <td>1706</td>\n",
       "    </tr>\n",
       "  </tbody>\n",
       "</table>\n",
       "</div>"
      ],
      "text/plain": [
       "            complaint_type    count\n",
       "0       Noise  Residential  1762342\n",
       "1                    Noise   469916\n",
       "2    Noise  StreetSidewalk   462639\n",
       "3        Noise  Commercial   341506\n",
       "4           Noise  Vehicle   210541\n",
       "5              Noise  Park    35084\n",
       "6             Noise Survey    16303\n",
       "7        Noise  Helicopter    10933\n",
       "8  Noise  House of Worship     9590\n",
       "9   Collection Truck Noise     1706"
      ]
     },
     "execution_count": 19,
     "metadata": {},
     "output_type": "execute_result"
    }
   ],
   "source": [
    "noise_freq = df_noise['complaint_type'].groupby(df_noise['complaint_type']).count().sort_values(ascending=False).reset_index(name='count')\n",
    "noise_freq"
   ]
  },
  {
   "cell_type": "code",
   "execution_count": 32,
   "metadata": {},
   "outputs": [
    {
     "data": {
      "text/plain": [
       "['Noise  Park',\n",
       " 'Noise Survey',\n",
       " 'Noise  Helicopter',\n",
       " 'Noise  House of Worship',\n",
       " 'Collection Truck Noise']"
      ]
     },
     "execution_count": 32,
     "metadata": {},
     "output_type": "execute_result"
    }
   ],
   "source": [
    "# Save the five most significant noise incidents in a list\n",
    "noise_list = list(noise_freq['complaint_type'].values)[-5:]\n",
    "noise_list"
   ]
  },
  {
   "cell_type": "code",
   "execution_count": 20,
   "metadata": {},
   "outputs": [
    {
     "name": "stdout",
     "output_type": "stream",
     "text": [
      "The zips with the most noise complains are:\n",
      "\n"
     ]
    },
    {
     "data": {
      "text/html": [
       "<div>\n",
       "<style scoped>\n",
       "    .dataframe tbody tr th:only-of-type {\n",
       "        vertical-align: middle;\n",
       "    }\n",
       "\n",
       "    .dataframe tbody tr th {\n",
       "        vertical-align: top;\n",
       "    }\n",
       "\n",
       "    .dataframe thead th {\n",
       "        text-align: right;\n",
       "    }\n",
       "</style>\n",
       "<table border=\"1\" class=\"dataframe\">\n",
       "  <thead>\n",
       "    <tr style=\"text-align: right;\">\n",
       "      <th></th>\n",
       "      <th>incident_zip</th>\n",
       "      <th>count</th>\n",
       "    </tr>\n",
       "  </thead>\n",
       "  <tbody>\n",
       "    <tr>\n",
       "      <td>0</td>\n",
       "      <td>11226.0</td>\n",
       "      <td>63189</td>\n",
       "    </tr>\n",
       "    <tr>\n",
       "      <td>1</td>\n",
       "      <td>10031.0</td>\n",
       "      <td>60765</td>\n",
       "    </tr>\n",
       "    <tr>\n",
       "      <td>2</td>\n",
       "      <td>10467.0</td>\n",
       "      <td>54756</td>\n",
       "    </tr>\n",
       "    <tr>\n",
       "      <td>3</td>\n",
       "      <td>10032.0</td>\n",
       "      <td>53770</td>\n",
       "    </tr>\n",
       "    <tr>\n",
       "      <td>4</td>\n",
       "      <td>10040.0</td>\n",
       "      <td>52729</td>\n",
       "    </tr>\n",
       "  </tbody>\n",
       "</table>\n",
       "</div>"
      ],
      "text/plain": [
       "   incident_zip  count\n",
       "0       11226.0  63189\n",
       "1       10031.0  60765\n",
       "2       10467.0  54756\n",
       "3       10032.0  53770\n",
       "4       10040.0  52729"
      ]
     },
     "execution_count": 20,
     "metadata": {},
     "output_type": "execute_result"
    }
   ],
   "source": [
    "#We will explore which zips have the most noise complaints.\n",
    "# Keep only the Category and the zips column\n",
    "df_noise_zips = df_noise.filter(items=['complaint_type', 'incident_zip'])\n",
    "df_noise_zips = df_noise_zips[df_noise_zips['incident_zip'].isin(zips)]\n",
    "\n",
    "# List the number of crimes per District\n",
    "complaint_freq_dist = df_noise_zips.groupby('incident_zip')['incident_zip'].count(\n",
    ").reset_index(name='count').sort_values(by='count', ascending=0)\n",
    "\n",
    "# Print the zips with the most noise complaints\n",
    "print('The zips with the most noise complains are:\\n')\n",
    "complaint_freq_dist = complaint_freq_dist.reset_index().drop('index',axis=1)\n",
    "complaint_freq_dist.head()"
   ]
  },
  {
   "cell_type": "code",
   "execution_count": 22,
   "metadata": {},
   "outputs": [
    {
     "data": {
      "text/plain": [
       "[11226.0,\n",
       " 10031.0,\n",
       " 10467.0,\n",
       " 10032.0,\n",
       " 10040.0,\n",
       " 10468.0,\n",
       " 11211.0,\n",
       " 10002.0,\n",
       " 10034.0,\n",
       " 10452.0]"
      ]
     },
     "execution_count": 22,
     "metadata": {},
     "output_type": "execute_result"
    }
   ],
   "source": [
    "# Keep the most noisy districts in a seperate list.\n",
    "noisy_zips = [i for i in complaint_freq_dist['incident_zip'][:10]]\n",
    "noisy_zips"
   ]
  },
  {
   "cell_type": "code",
   "execution_count": 25,
   "metadata": {},
   "outputs": [],
   "source": [
    "#focis only on noisy zips\n",
    "df_noise_focus = df_noise[df_noise['incident_zip'].isin(noisy_zips)]"
   ]
  },
  {
   "cell_type": "code",
   "execution_count": 64,
   "metadata": {},
   "outputs": [],
   "source": [
    "df_noise_focus = df_noise_focus.dropna(subset=['latitude'])\n",
    "df_noise_focus = df_noise_focus.dropna(subset=['longitude'])"
   ]
  },
  {
   "cell_type": "code",
   "execution_count": 75,
   "metadata": {
    "scrolled": true
   },
   "outputs": [
    {
     "data": {
      "text/plain": [
       "(-73.99940125637194, -73.85709962963841, 40.63438479278872, 40.893059227007065)"
      ]
     },
     "execution_count": 75,
     "metadata": {},
     "output_type": "execute_result"
    },
    {
     "data": {
      "image/png": "[encoded data removed]",
      "text/plain": [
       "<Figure size 720x432 with 2 Axes>"
      ]
     },
     "metadata": {
      "needs_background": "light"
     },
     "output_type": "display_data"
    }
   ],
   "source": [
    "df_noise_focus.plot(kind='hexbin', x='longitude', y='latitude', gridsize=40,\n",
    "    colormap = 'jet',mincnt=1,title = 'Noise Complaints concentration zips', figsize=(10,6)).axis('equal')"
   ]
  },
  {
   "cell_type": "code",
   "execution_count": null,
   "metadata": {},
   "outputs": [],
   "source": []
  }
 ],
 "metadata": {
  "kernelspec": {
   "display_name": "Python (env-gpu)",
   "language": "python",
   "name": "env-gpu"
  },
  "language_info": {
   "codemirror_mode": {
    "name": "ipython",
    "version": 3
   },
   "file_extension": ".py",
   "mimetype": "text/x-python",
   "name": "python",
   "nbconvert_exporter": "python",
   "pygments_lexer": "ipython3",
   "version": "3.6.9"
  }
 },
 "nbformat": 4,
 "nbformat_minor": 2
}
