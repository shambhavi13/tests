{
 "cells": [
  {
   "cell_type": "markdown",
   "metadata": {},
   "source": [
    "### For each zipcode find which other zipcode they are most and least similar to.  Does this change over time?  If so, how.\n",
    "\n",
    "We can think of zip code similarities on the basis of complaint type. If two zipdcodes have almost same complaint type count then probabliity of the zip code to be similar is high.\n",
    "First identify top complaints in total "
   ]
  },
  {
   "cell_type": "code",
   "execution_count": 1,
   "metadata": {},
   "outputs": [
    {
     "data": {
      "text/html": [
       "<div>\n",
       "<style scoped>\n",
       "    .dataframe tbody tr th:only-of-type {\n",
       "        vertical-align: middle;\n",
       "    }\n",
       "\n",
       "    .dataframe tbody tr th {\n",
       "        vertical-align: top;\n",
       "    }\n",
       "\n",
       "    .dataframe thead th {\n",
       "        text-align: right;\n",
       "    }\n",
       "</style>\n",
       "<table border=\"1\" class=\"dataframe\">\n",
       "  <thead>\n",
       "    <tr style=\"text-align: right;\">\n",
       "      <th></th>\n",
       "      <th>unique_key</th>\n",
       "      <th>created_date</th>\n",
       "      <th>closed_date</th>\n",
       "      <th>agency</th>\n",
       "      <th>agency_name</th>\n",
       "      <th>complaint_type</th>\n",
       "      <th>descriptor</th>\n",
       "      <th>location_type</th>\n",
       "      <th>incident_zip</th>\n",
       "      <th>incident_address</th>\n",
       "      <th>...</th>\n",
       "      <th>vehicle_type</th>\n",
       "      <th>taxi_company_borough</th>\n",
       "      <th>taxi_pick_up_location</th>\n",
       "      <th>bridge_highway_name</th>\n",
       "      <th>bridge_highway_direction</th>\n",
       "      <th>road_ramp</th>\n",
       "      <th>bridge_highway_segment</th>\n",
       "      <th>latitude</th>\n",
       "      <th>longitude</th>\n",
       "      <th>location</th>\n",
       "    </tr>\n",
       "  </thead>\n",
       "  <tbody>\n",
       "    <tr>\n",
       "      <td>0</td>\n",
       "      <td>20122810</td>\n",
       "      <td>03/28/2011 11:20:53 AM</td>\n",
       "      <td>04/13/2011 10:40:27 AM</td>\n",
       "      <td>DOF</td>\n",
       "      <td>Senior Citizen Rent Increase Exemption Unit</td>\n",
       "      <td>SCRIE</td>\n",
       "      <td>SCRIE Assistance</td>\n",
       "      <td>Address Unknown</td>\n",
       "      <td>NaN</td>\n",
       "      <td>NaN</td>\n",
       "      <td>...</td>\n",
       "      <td>NaN</td>\n",
       "      <td>NaN</td>\n",
       "      <td>NaN</td>\n",
       "      <td>NaN</td>\n",
       "      <td>NaN</td>\n",
       "      <td>NaN</td>\n",
       "      <td>NaN</td>\n",
       "      <td>NaN</td>\n",
       "      <td>NaN</td>\n",
       "      <td>NaN</td>\n",
       "    </tr>\n",
       "    <tr>\n",
       "      <td>1</td>\n",
       "      <td>20122811</td>\n",
       "      <td>03/28/2011 11:12:27 PM</td>\n",
       "      <td>03/29/2011 05:07:13 AM</td>\n",
       "      <td>NYPD</td>\n",
       "      <td>New York City Police Department</td>\n",
       "      <td>Illegal Parking</td>\n",
       "      <td>Posted Parking Sign Violation</td>\n",
       "      <td>Street/Sidewalk</td>\n",
       "      <td>11216.0</td>\n",
       "      <td>644 LAFAYETTE AVENUE</td>\n",
       "      <td>...</td>\n",
       "      <td>NaN</td>\n",
       "      <td>NaN</td>\n",
       "      <td>NaN</td>\n",
       "      <td>NaN</td>\n",
       "      <td>NaN</td>\n",
       "      <td>NaN</td>\n",
       "      <td>NaN</td>\n",
       "      <td>40.690123</td>\n",
       "      <td>-73.949135</td>\n",
       "      <td>(40.69012317171803, -73.94913492072885)</td>\n",
       "    </tr>\n",
       "    <tr>\n",
       "      <td>2</td>\n",
       "      <td>20122812</td>\n",
       "      <td>03/28/2011 04:12:08 PM</td>\n",
       "      <td>03/28/2011 08:03:39 PM</td>\n",
       "      <td>DOF</td>\n",
       "      <td>Senior Citizen Rent Increase Exemption Unit</td>\n",
       "      <td>SCRIE</td>\n",
       "      <td>SCRIE Assistance</td>\n",
       "      <td>Senior Address</td>\n",
       "      <td>10012.0</td>\n",
       "      <td>NaN</td>\n",
       "      <td>...</td>\n",
       "      <td>NaN</td>\n",
       "      <td>NaN</td>\n",
       "      <td>NaN</td>\n",
       "      <td>NaN</td>\n",
       "      <td>NaN</td>\n",
       "      <td>NaN</td>\n",
       "      <td>NaN</td>\n",
       "      <td>NaN</td>\n",
       "      <td>NaN</td>\n",
       "      <td>NaN</td>\n",
       "    </tr>\n",
       "    <tr>\n",
       "      <td>3</td>\n",
       "      <td>20122813</td>\n",
       "      <td>03/28/2011 06:25:54 PM</td>\n",
       "      <td>03/28/2011 07:25:59 PM</td>\n",
       "      <td>DOF</td>\n",
       "      <td>Senior Citizen Rent Increase Exemption Unit</td>\n",
       "      <td>SCRIE</td>\n",
       "      <td>SCRIE Assistance</td>\n",
       "      <td>Senior Address</td>\n",
       "      <td>10456.0</td>\n",
       "      <td>NaN</td>\n",
       "      <td>...</td>\n",
       "      <td>NaN</td>\n",
       "      <td>NaN</td>\n",
       "      <td>NaN</td>\n",
       "      <td>NaN</td>\n",
       "      <td>NaN</td>\n",
       "      <td>NaN</td>\n",
       "      <td>NaN</td>\n",
       "      <td>NaN</td>\n",
       "      <td>NaN</td>\n",
       "      <td>NaN</td>\n",
       "    </tr>\n",
       "    <tr>\n",
       "      <td>4</td>\n",
       "      <td>20122814</td>\n",
       "      <td>03/28/2011 04:16:51 PM</td>\n",
       "      <td>03/28/2011 07:52:23 PM</td>\n",
       "      <td>DOF</td>\n",
       "      <td>Senior Citizen Rent Increase Exemption Unit</td>\n",
       "      <td>SCRIE</td>\n",
       "      <td>SCRIE Assistance</td>\n",
       "      <td>Senior Address</td>\n",
       "      <td>10023.0</td>\n",
       "      <td>NaN</td>\n",
       "      <td>...</td>\n",
       "      <td>NaN</td>\n",
       "      <td>NaN</td>\n",
       "      <td>NaN</td>\n",
       "      <td>NaN</td>\n",
       "      <td>NaN</td>\n",
       "      <td>NaN</td>\n",
       "      <td>NaN</td>\n",
       "      <td>NaN</td>\n",
       "      <td>NaN</td>\n",
       "      <td>NaN</td>\n",
       "    </tr>\n",
       "  </tbody>\n",
       "</table>\n",
       "<p>5 rows × 41 columns</p>\n",
       "</div>"
      ],
      "text/plain": [
       "   unique_key            created_date             closed_date agency  \\\n",
       "0    20122810  03/28/2011 11:20:53 AM  04/13/2011 10:40:27 AM    DOF   \n",
       "1    20122811  03/28/2011 11:12:27 PM  03/29/2011 05:07:13 AM   NYPD   \n",
       "2    20122812  03/28/2011 04:12:08 PM  03/28/2011 08:03:39 PM    DOF   \n",
       "3    20122813  03/28/2011 06:25:54 PM  03/28/2011 07:25:59 PM    DOF   \n",
       "4    20122814  03/28/2011 04:16:51 PM  03/28/2011 07:52:23 PM    DOF   \n",
       "\n",
       "                                   agency_name   complaint_type  \\\n",
       "0  Senior Citizen Rent Increase Exemption Unit            SCRIE   \n",
       "1              New York City Police Department  Illegal Parking   \n",
       "2  Senior Citizen Rent Increase Exemption Unit            SCRIE   \n",
       "3  Senior Citizen Rent Increase Exemption Unit            SCRIE   \n",
       "4  Senior Citizen Rent Increase Exemption Unit            SCRIE   \n",
       "\n",
       "                      descriptor    location_type  incident_zip  \\\n",
       "0               SCRIE Assistance  Address Unknown           NaN   \n",
       "1  Posted Parking Sign Violation  Street/Sidewalk       11216.0   \n",
       "2               SCRIE Assistance   Senior Address       10012.0   \n",
       "3               SCRIE Assistance   Senior Address       10456.0   \n",
       "4               SCRIE Assistance   Senior Address       10023.0   \n",
       "\n",
       "       incident_address  ... vehicle_type taxi_company_borough  \\\n",
       "0                   NaN  ...          NaN                  NaN   \n",
       "1  644 LAFAYETTE AVENUE  ...          NaN                  NaN   \n",
       "2                   NaN  ...          NaN                  NaN   \n",
       "3                   NaN  ...          NaN                  NaN   \n",
       "4                   NaN  ...          NaN                  NaN   \n",
       "\n",
       "  taxi_pick_up_location bridge_highway_name bridge_highway_direction  \\\n",
       "0                   NaN                 NaN                      NaN   \n",
       "1                   NaN                 NaN                      NaN   \n",
       "2                   NaN                 NaN                      NaN   \n",
       "3                   NaN                 NaN                      NaN   \n",
       "4                   NaN                 NaN                      NaN   \n",
       "\n",
       "  road_ramp bridge_highway_segment   latitude  longitude  \\\n",
       "0       NaN                    NaN        NaN        NaN   \n",
       "1       NaN                    NaN  40.690123 -73.949135   \n",
       "2       NaN                    NaN        NaN        NaN   \n",
       "3       NaN                    NaN        NaN        NaN   \n",
       "4       NaN                    NaN        NaN        NaN   \n",
       "\n",
       "                                  location  \n",
       "0                                      NaN  \n",
       "1  (40.69012317171803, -73.94913492072885)  \n",
       "2                                      NaN  \n",
       "3                                      NaN  \n",
       "4                                      NaN  \n",
       "\n",
       "[5 rows x 41 columns]"
      ]
     },
     "execution_count": 1,
     "metadata": {},
     "output_type": "execute_result"
    }
   ],
   "source": [
    "# Load it into a Dataframe using pandas\n",
    "import pandas as pd\n",
    "path = 'nyc311_filter.csv'\n",
    "df = pd.read_csv(path, low_memory=False, na_values = ['NO CLUE', 'N/A', '0', 'NaN'])\n",
    "df.head()"
   ]
  },
  {
   "cell_type": "code",
   "execution_count": 2,
   "metadata": {},
   "outputs": [
    {
     "data": {
      "text/plain": [
       "Index(['unique_key', 'created_date', 'closed_date', 'agency', 'agency_name',\n",
       "       'complaint_type', 'descriptor', 'location_type', 'incident_zip',\n",
       "       'incident_address', 'street_name', 'cross_street_1', 'cross_street_2',\n",
       "       'intersection_street_1', 'intersection_street_2', 'address_type',\n",
       "       'city', 'landmark', 'facility_type', 'status', 'due_date',\n",
       "       'resolution_description', 'resolution_action_updated_date',\n",
       "       'community_board', 'bbl', 'borough', 'x_coordinate_state_plane',\n",
       "       'y_coordinate_state_plane', 'open_data_channel_type',\n",
       "       'park_facility_name', 'park_borough', 'vehicle_type',\n",
       "       'taxi_company_borough', 'taxi_pick_up_location', 'bridge_highway_name',\n",
       "       'bridge_highway_direction', 'road_ramp', 'bridge_highway_segment',\n",
       "       'latitude', 'longitude', 'location'],\n",
       "      dtype='object')"
      ]
     },
     "execution_count": 2,
     "metadata": {},
     "output_type": "execute_result"
    }
   ],
   "source": [
    "df.columns"
   ]
  },
  {
   "cell_type": "code",
   "execution_count": 3,
   "metadata": {},
   "outputs": [],
   "source": [
    "df.drop(df.columns[[9,10,11,12,13,14,15,17,18,19,20,21,22,23,25,26,27,28,29,30,31,32,33,34,35,36,37]], axis=1, inplace=True)"
   ]
  },
  {
   "cell_type": "code",
   "execution_count": 4,
   "metadata": {},
   "outputs": [],
   "source": [
    "# Drop null values from the whole dataset\n",
    "df = df.dropna()"
   ]
  },
  {
   "cell_type": "code",
   "execution_count": 5,
   "metadata": {},
   "outputs": [
    {
     "data": {
      "text/html": [
       "<div>\n",
       "<style scoped>\n",
       "    .dataframe tbody tr th:only-of-type {\n",
       "        vertical-align: middle;\n",
       "    }\n",
       "\n",
       "    .dataframe tbody tr th {\n",
       "        vertical-align: top;\n",
       "    }\n",
       "\n",
       "    .dataframe thead th {\n",
       "        text-align: right;\n",
       "    }\n",
       "</style>\n",
       "<table border=\"1\" class=\"dataframe\">\n",
       "  <thead>\n",
       "    <tr style=\"text-align: right;\">\n",
       "      <th></th>\n",
       "      <th>unique_key</th>\n",
       "      <th>created_date</th>\n",
       "      <th>closed_date</th>\n",
       "      <th>agency</th>\n",
       "      <th>agency_name</th>\n",
       "      <th>complaint_type</th>\n",
       "      <th>descriptor</th>\n",
       "      <th>location_type</th>\n",
       "      <th>incident_zip</th>\n",
       "      <th>city</th>\n",
       "      <th>bbl</th>\n",
       "      <th>latitude</th>\n",
       "      <th>longitude</th>\n",
       "      <th>location</th>\n",
       "    </tr>\n",
       "  </thead>\n",
       "  <tbody>\n",
       "    <tr>\n",
       "      <td>1</td>\n",
       "      <td>20122811</td>\n",
       "      <td>03/28/2011 11:12:27 PM</td>\n",
       "      <td>03/29/2011 05:07:13 AM</td>\n",
       "      <td>NYPD</td>\n",
       "      <td>New York City Police Department</td>\n",
       "      <td>Illegal Parking</td>\n",
       "      <td>Posted Parking Sign Violation</td>\n",
       "      <td>Street/Sidewalk</td>\n",
       "      <td>11216.0</td>\n",
       "      <td>BROOKLYN</td>\n",
       "      <td>3.017890e+09</td>\n",
       "      <td>40.690123</td>\n",
       "      <td>-73.949135</td>\n",
       "      <td>(40.69012317171803, -73.94913492072885)</td>\n",
       "    </tr>\n",
       "    <tr>\n",
       "      <td>11</td>\n",
       "      <td>20122821</td>\n",
       "      <td>03/28/2011 10:57:31 PM</td>\n",
       "      <td>05/19/2011 01:13:06 PM</td>\n",
       "      <td>DOHMH</td>\n",
       "      <td>Department of Health and Mental Hygiene</td>\n",
       "      <td>Indoor Air Quality</td>\n",
       "      <td>Dust from Construction</td>\n",
       "      <td>3+ Family Apartment Building</td>\n",
       "      <td>10009.0</td>\n",
       "      <td>NEW YORK</td>\n",
       "      <td>1.003910e+09</td>\n",
       "      <td>40.726053</td>\n",
       "      <td>-73.979818</td>\n",
       "      <td>(40.726053362722304, -73.97981762009752)</td>\n",
       "    </tr>\n",
       "    <tr>\n",
       "      <td>12</td>\n",
       "      <td>20122822</td>\n",
       "      <td>03/28/2011 12:13:02 PM</td>\n",
       "      <td>05/19/2011 01:12:55 PM</td>\n",
       "      <td>DOHMH</td>\n",
       "      <td>Department of Health and Mental Hygiene</td>\n",
       "      <td>Indoor Air Quality</td>\n",
       "      <td>Dust from Construction</td>\n",
       "      <td>3+ Family Apartment Building</td>\n",
       "      <td>10009.0</td>\n",
       "      <td>NEW YORK</td>\n",
       "      <td>1.003910e+09</td>\n",
       "      <td>40.726053</td>\n",
       "      <td>-73.979818</td>\n",
       "      <td>(40.726053362722304, -73.97981762009752)</td>\n",
       "    </tr>\n",
       "    <tr>\n",
       "      <td>13</td>\n",
       "      <td>20122823</td>\n",
       "      <td>03/28/2011 04:23:23 PM</td>\n",
       "      <td>05/19/2011 01:13:02 PM</td>\n",
       "      <td>DOHMH</td>\n",
       "      <td>Department of Health and Mental Hygiene</td>\n",
       "      <td>Indoor Air Quality</td>\n",
       "      <td>Dust from Construction</td>\n",
       "      <td>3+ Family Apartment Building</td>\n",
       "      <td>11360.0</td>\n",
       "      <td>BAYSIDE</td>\n",
       "      <td>4.058938e+09</td>\n",
       "      <td>40.779012</td>\n",
       "      <td>-73.782085</td>\n",
       "      <td>(40.779012083546895, -73.78208491752011)</td>\n",
       "    </tr>\n",
       "    <tr>\n",
       "      <td>14</td>\n",
       "      <td>20122824</td>\n",
       "      <td>03/28/2011 11:14:53 AM</td>\n",
       "      <td>04/04/2011 12:46:58 PM</td>\n",
       "      <td>DOHMH</td>\n",
       "      <td>Department of Health and Mental Hygiene</td>\n",
       "      <td>Indoor Air Quality</td>\n",
       "      <td>Dust from Construction</td>\n",
       "      <td>3+ Family Apartment Building</td>\n",
       "      <td>11205.0</td>\n",
       "      <td>BROOKLYN</td>\n",
       "      <td>3.019170e+09</td>\n",
       "      <td>40.690711</td>\n",
       "      <td>-73.966360</td>\n",
       "      <td>(40.69071138727672, -73.96636009530222)</td>\n",
       "    </tr>\n",
       "  </tbody>\n",
       "</table>\n",
       "</div>"
      ],
      "text/plain": [
       "    unique_key            created_date             closed_date agency  \\\n",
       "1     20122811  03/28/2011 11:12:27 PM  03/29/2011 05:07:13 AM   NYPD   \n",
       "11    20122821  03/28/2011 10:57:31 PM  05/19/2011 01:13:06 PM  DOHMH   \n",
       "12    20122822  03/28/2011 12:13:02 PM  05/19/2011 01:12:55 PM  DOHMH   \n",
       "13    20122823  03/28/2011 04:23:23 PM  05/19/2011 01:13:02 PM  DOHMH   \n",
       "14    20122824  03/28/2011 11:14:53 AM  04/04/2011 12:46:58 PM  DOHMH   \n",
       "\n",
       "                                agency_name      complaint_type  \\\n",
       "1           New York City Police Department     Illegal Parking   \n",
       "11  Department of Health and Mental Hygiene  Indoor Air Quality   \n",
       "12  Department of Health and Mental Hygiene  Indoor Air Quality   \n",
       "13  Department of Health and Mental Hygiene  Indoor Air Quality   \n",
       "14  Department of Health and Mental Hygiene  Indoor Air Quality   \n",
       "\n",
       "                       descriptor                 location_type  incident_zip  \\\n",
       "1   Posted Parking Sign Violation               Street/Sidewalk       11216.0   \n",
       "11         Dust from Construction  3+ Family Apartment Building       10009.0   \n",
       "12         Dust from Construction  3+ Family Apartment Building       10009.0   \n",
       "13         Dust from Construction  3+ Family Apartment Building       11360.0   \n",
       "14         Dust from Construction  3+ Family Apartment Building       11205.0   \n",
       "\n",
       "        city           bbl   latitude  longitude  \\\n",
       "1   BROOKLYN  3.017890e+09  40.690123 -73.949135   \n",
       "11  NEW YORK  1.003910e+09  40.726053 -73.979818   \n",
       "12  NEW YORK  1.003910e+09  40.726053 -73.979818   \n",
       "13   BAYSIDE  4.058938e+09  40.779012 -73.782085   \n",
       "14  BROOKLYN  3.019170e+09  40.690711 -73.966360   \n",
       "\n",
       "                                    location  \n",
       "1    (40.69012317171803, -73.94913492072885)  \n",
       "11  (40.726053362722304, -73.97981762009752)  \n",
       "12  (40.726053362722304, -73.97981762009752)  \n",
       "13  (40.779012083546895, -73.78208491752011)  \n",
       "14   (40.69071138727672, -73.96636009530222)  "
      ]
     },
     "execution_count": 5,
     "metadata": {},
     "output_type": "execute_result"
    }
   ],
   "source": [
    "df.head()"
   ]
  },
  {
   "cell_type": "code",
   "execution_count": 6,
   "metadata": {},
   "outputs": [],
   "source": [
    "# How this change over time\n",
    "# Create a function that gets the year of a datetime string\n",
    "def getYear(s):\n",
    "    first_split = s.split(' ')[0]\n",
    "    return int(first_split.split('/')[-1])"
   ]
  },
  {
   "cell_type": "code",
   "execution_count": 7,
   "metadata": {},
   "outputs": [],
   "source": [
    "# Now create a new column named year and store the values of the above function\n",
    "df['created_year']= df['created_date'].apply(lambda x: getYear(x))\n",
    "df['closed_year']= df['closed_date'].apply(lambda x: getYear(x))"
   ]
  },
  {
   "cell_type": "code",
   "execution_count": 8,
   "metadata": {},
   "outputs": [],
   "source": [
    "# Keep only 2010 to 2018 data\n",
    "df = df[df['closed_year'].isin(range(2010,2019))]"
   ]
  },
  {
   "cell_type": "code",
   "execution_count": 1,
   "metadata": {},
   "outputs": [
    {
     "ename": "NameError",
     "evalue": "name 'df' is not defined",
     "output_type": "error",
     "traceback": [
      "\u001b[0;31m---------------------------------------------------------------------------\u001b[0m",
      "\u001b[0;31mNameError\u001b[0m                                 Traceback (most recent call last)",
      "\u001b[0;32m<ipython-input-1-06caaba9c28c>\u001b[0m in \u001b[0;36m<module>\u001b[0;34m\u001b[0m\n\u001b[1;32m      1\u001b[0m \u001b[0;31m# Create a new csv\u001b[0m\u001b[0;34m\u001b[0m\u001b[0;34m\u001b[0m\u001b[0;34m\u001b[0m\u001b[0m\n\u001b[0;32m----> 2\u001b[0;31m \u001b[0mdf\u001b[0m\u001b[0;34m.\u001b[0m\u001b[0mto_csv\u001b[0m\u001b[0;34m(\u001b[0m\u001b[0;34m'311_cleaned_2.csv'\u001b[0m\u001b[0;34m,\u001b[0m \u001b[0mindex\u001b[0m\u001b[0;34m=\u001b[0m\u001b[0;32mFalse\u001b[0m\u001b[0;34m)\u001b[0m\u001b[0;34m\u001b[0m\u001b[0;34m\u001b[0m\u001b[0m\n\u001b[0m",
      "\u001b[0;31mNameError\u001b[0m: name 'df' is not defined"
     ]
    }
   ],
   "source": [
    "# Create a new csv\n",
    "df.to_csv('311_cleaned_2.csv', index=False)"
   ]
  },
  {
   "cell_type": "code",
   "execution_count": 5,
   "metadata": {},
   "outputs": [],
   "source": [
    "import pandas as pd\n",
    "df = pd.read_csv('311_cleaned_2.csv')"
   ]
  },
  {
   "cell_type": "code",
   "execution_count": 6,
   "metadata": {},
   "outputs": [
    {
     "data": {
      "text/html": [
       "<div>\n",
       "<style scoped>\n",
       "    .dataframe tbody tr th:only-of-type {\n",
       "        vertical-align: middle;\n",
       "    }\n",
       "\n",
       "    .dataframe tbody tr th {\n",
       "        vertical-align: top;\n",
       "    }\n",
       "\n",
       "    .dataframe thead th {\n",
       "        text-align: right;\n",
       "    }\n",
       "</style>\n",
       "<table border=\"1\" class=\"dataframe\">\n",
       "  <thead>\n",
       "    <tr style=\"text-align: right;\">\n",
       "      <th></th>\n",
       "      <th>complaint_type</th>\n",
       "      <th>count</th>\n",
       "    </tr>\n",
       "  </thead>\n",
       "  <tbody>\n",
       "    <tr>\n",
       "      <td>0</td>\n",
       "      <td>Noise  Residential</td>\n",
       "      <td>1073747</td>\n",
       "    </tr>\n",
       "    <tr>\n",
       "      <td>1</td>\n",
       "      <td>HEATHOT WATER</td>\n",
       "      <td>983313</td>\n",
       "    </tr>\n",
       "    <tr>\n",
       "      <td>2</td>\n",
       "      <td>HEATING</td>\n",
       "      <td>573033</td>\n",
       "    </tr>\n",
       "    <tr>\n",
       "      <td>3</td>\n",
       "      <td>Blocked Driveway</td>\n",
       "      <td>551327</td>\n",
       "    </tr>\n",
       "    <tr>\n",
       "      <td>4</td>\n",
       "      <td>PLUMBING</td>\n",
       "      <td>492611</td>\n",
       "    </tr>\n",
       "  </tbody>\n",
       "</table>\n",
       "</div>"
      ],
      "text/plain": [
       "       complaint_type    count\n",
       "0  Noise  Residential  1073747\n",
       "1       HEATHOT WATER   983313\n",
       "2             HEATING   573033\n",
       "3    Blocked Driveway   551327\n",
       "4            PLUMBING   492611"
      ]
     },
     "execution_count": 6,
     "metadata": {},
     "output_type": "execute_result"
    }
   ],
   "source": [
    "# find top complaint types\n",
    "top_complaint = df['complaint_type'].groupby(df['complaint_type']).count(\n",
    ").sort_values(ascending=False).reset_index(name='count')\n",
    "top_complaint.head()"
   ]
  },
  {
   "cell_type": "code",
   "execution_count": 7,
   "metadata": {},
   "outputs": [
    {
     "data": {
      "text/plain": [
       "array(['Noise  Residential', 'Noise  StreetSidewalk', 'Noise  Vehicle',\n",
       "       'Noise  Commercial', 'Noise  Helicopter',\n",
       "       'Noise  House of Worship', 'Noise  Park', 'Noise Survey',\n",
       "       'Collection Truck Noise'], dtype=object)"
      ]
     },
     "execution_count": 7,
     "metadata": {},
     "output_type": "execute_result"
    }
   ],
   "source": [
    "# Keep noise related data in a seperate dataframe\n",
    "df_noise = df[df['complaint_type'].str.contains(\"Noise\", na=False)]\n",
    "df_noise['complaint_type'].unique()"
   ]
  },
  {
   "cell_type": "code",
   "execution_count": 8,
   "metadata": {},
   "outputs": [
    {
     "name": "stdout",
     "output_type": "stream",
     "text": [
      "The 213 zips of NYC are: \n",
      "[10310.0, 11226.0, 11377.0, 10465.0, 11373.0, 10452.0, 11204.0, 11370.0, 10462.0, 10473.0, 11206.0, 10040.0, 11221.0, 11374.0, 10467.0, 10009.0, 10026.0, 11212.0, 10039.0, 11693.0, 11209.0, 10468.0, 10472.0, 10029.0, 11213.0, 10035.0, 10027.0, 11432.0, 10014.0, 11205.0, 10023.0, 11217.0, 10013.0, 10019.0, 10002.0, 10028.0, 11372.0, 11435.0, 11413.0, 11207.0, 11229.0, 10022.0, 11214.0, 10469.0, 11354.0, 11415.0, 10454.0, 10458.0, 10030.0, 10461.0, 11106.0, 10301.0, 11419.0, 10025.0, 10453.0, 10034.0, 11237.0, 10457.0, 10455.0, 11385.0, 10304.0, 11208.0, 10459.0, 11230.0, 10032.0, 11216.0, 11355.0, 11219.0, 11429.0, 10001.0, 11691.0, 10451.0, 11234.0, 10031.0, 10463.0, 11236.0, 11358.0, 11422.0, 10037.0, 11104.0, 10003.0, 10016.0, 11203.0, 11210.0, 11368.0, 10128.0, 11220.0, 11201.0, 10011.0, 11224.0, 10466.0, 10456.0, 11365.0, 11225.0, 11211.0, 10474.0, 11215.0, 11222.0, 11218.0, 10471.0, 11103.0, 11238.0, 11412.0, 10303.0, 10460.0, 11004.0, 11233.0, 11434.0, 10024.0, 10007.0, 11228.0, 10464.0, 11427.0, 11418.0, 11420.0, 10038.0, 11369.0, 10065.0, 11105.0, 10036.0, 11231.0, 10012.0, 10010.0, 11367.0, 11235.0, 11232.0, 11421.0, 10033.0, 10314.0, 11433.0, 11379.0, 11102.0, 10306.0, 10018.0, 10470.0, 11101.0, 10280.0, 11360.0, 11223.0, 11423.0, 11378.0, 11375.0, 10305.0, 11243.0, 10021.0, 10302.0, 11416.0, 10004.0, 11428.0, 10312.0, 10006.0, 10017.0, 11436.0, 11356.0, 11364.0, 11692.0, 10475.0, 10005.0, 11694.0, 10075.0, 11239.0, 11366.0, 11414.0, 11361.0, 11249.0, 10309.0, 10162.0, 10307.0, 11357.0, 10308.0, 11417.0, 11426.0, 11001.0, 11411.0, 10282.0, 11363.0, 11109.0, 11362.0, 11040.0, 11697.0, 10069.0, 10044.0, 10048.0, 10281.0, 11430.0, 10177.0, 10020.0, 11005.0, 10121.0, 11242.0, 10118.0, 10119.0, 10153.0, 10112.0, 10103.0, 11241.0, 10178.0, 10041.0, 10110.0, 12345.0, 11695.0, 10120.0, 10170.0, 10158.0, 10111.0, 10168.0, 10106.0, 10107.0, 10129.0, 10123.0, 10278.0, 10174.0, 10165.0]\n"
     ]
    }
   ],
   "source": [
    "# list the names of zips\n",
    "# Create a list of unique values of districts excluding nulls\n",
    "zips = [i for i in df_noise['incident_zip'].unique() if pd.notnull(i)]\n",
    "print('The %d zips of NYC are: \\n%s' % (len(zips), zips))"
   ]
  },
  {
   "cell_type": "code",
   "execution_count": 9,
   "metadata": {},
   "outputs": [
    {
     "data": {
      "text/html": [
       "<div>\n",
       "<style scoped>\n",
       "    .dataframe tbody tr th:only-of-type {\n",
       "        vertical-align: middle;\n",
       "    }\n",
       "\n",
       "    .dataframe tbody tr th {\n",
       "        vertical-align: top;\n",
       "    }\n",
       "\n",
       "    .dataframe thead th {\n",
       "        text-align: right;\n",
       "    }\n",
       "</style>\n",
       "<table border=\"1\" class=\"dataframe\">\n",
       "  <thead>\n",
       "    <tr style=\"text-align: right;\">\n",
       "      <th></th>\n",
       "      <th>complaint_type</th>\n",
       "      <th>count</th>\n",
       "    </tr>\n",
       "  </thead>\n",
       "  <tbody>\n",
       "    <tr>\n",
       "      <td>0</td>\n",
       "      <td>Noise  Residential</td>\n",
       "      <td>1073747</td>\n",
       "    </tr>\n",
       "    <tr>\n",
       "      <td>1</td>\n",
       "      <td>Noise  Commercial</td>\n",
       "      <td>199869</td>\n",
       "    </tr>\n",
       "    <tr>\n",
       "      <td>2</td>\n",
       "      <td>Noise  StreetSidewalk</td>\n",
       "      <td>194617</td>\n",
       "    </tr>\n",
       "    <tr>\n",
       "      <td>3</td>\n",
       "      <td>Noise  Vehicle</td>\n",
       "      <td>79504</td>\n",
       "    </tr>\n",
       "    <tr>\n",
       "      <td>4</td>\n",
       "      <td>Noise Survey</td>\n",
       "      <td>13417</td>\n",
       "    </tr>\n",
       "    <tr>\n",
       "      <td>5</td>\n",
       "      <td>Noise  Park</td>\n",
       "      <td>5064</td>\n",
       "    </tr>\n",
       "    <tr>\n",
       "      <td>6</td>\n",
       "      <td>Noise  Helicopter</td>\n",
       "      <td>4533</td>\n",
       "    </tr>\n",
       "    <tr>\n",
       "      <td>7</td>\n",
       "      <td>Noise  House of Worship</td>\n",
       "      <td>3962</td>\n",
       "    </tr>\n",
       "    <tr>\n",
       "      <td>8</td>\n",
       "      <td>Collection Truck Noise</td>\n",
       "      <td>713</td>\n",
       "    </tr>\n",
       "  </tbody>\n",
       "</table>\n",
       "</div>"
      ],
      "text/plain": [
       "            complaint_type    count\n",
       "0       Noise  Residential  1073747\n",
       "1        Noise  Commercial   199869\n",
       "2    Noise  StreetSidewalk   194617\n",
       "3           Noise  Vehicle    79504\n",
       "4             Noise Survey    13417\n",
       "5              Noise  Park     5064\n",
       "6        Noise  Helicopter     4533\n",
       "7  Noise  House of Worship     3962\n",
       "8   Collection Truck Noise      713"
      ]
     },
     "execution_count": 9,
     "metadata": {},
     "output_type": "execute_result"
    }
   ],
   "source": [
    "noise_freq = df_noise['complaint_type'].groupby(df_noise['complaint_type']).count(\n",
    ").sort_values(ascending=False).reset_index(name='count')\n",
    "noise_freq"
   ]
  },
  {
   "cell_type": "code",
   "execution_count": 10,
   "metadata": {},
   "outputs": [
    {
     "data": {
      "text/plain": [
       "['Noise Survey',\n",
       " 'Noise  Park',\n",
       " 'Noise  Helicopter',\n",
       " 'Noise  House of Worship',\n",
       " 'Collection Truck Noise']"
      ]
     },
     "execution_count": 10,
     "metadata": {},
     "output_type": "execute_result"
    }
   ],
   "source": [
    "# Save the five most significant noise incidents in a list\n",
    "noise_list = list(noise_freq['complaint_type'].values)[-5:]\n",
    "noise_list"
   ]
  },
  {
   "cell_type": "code",
   "execution_count": 11,
   "metadata": {},
   "outputs": [
    {
     "name": "stdout",
     "output_type": "stream",
     "text": [
      "The zips with the most noise complains are:\n",
      "\n"
     ]
    },
    {
     "data": {
      "text/html": [
       "<div>\n",
       "<style scoped>\n",
       "    .dataframe tbody tr th:only-of-type {\n",
       "        vertical-align: middle;\n",
       "    }\n",
       "\n",
       "    .dataframe tbody tr th {\n",
       "        vertical-align: top;\n",
       "    }\n",
       "\n",
       "    .dataframe thead th {\n",
       "        text-align: right;\n",
       "    }\n",
       "</style>\n",
       "<table border=\"1\" class=\"dataframe\">\n",
       "  <thead>\n",
       "    <tr style=\"text-align: right;\">\n",
       "      <th></th>\n",
       "      <th>incident_zip</th>\n",
       "      <th>count</th>\n",
       "    </tr>\n",
       "  </thead>\n",
       "  <tbody>\n",
       "    <tr>\n",
       "      <td>0</td>\n",
       "      <td>11226.0</td>\n",
       "      <td>36045</td>\n",
       "    </tr>\n",
       "    <tr>\n",
       "      <td>1</td>\n",
       "      <td>10031.0</td>\n",
       "      <td>33002</td>\n",
       "    </tr>\n",
       "    <tr>\n",
       "      <td>2</td>\n",
       "      <td>10467.0</td>\n",
       "      <td>31054</td>\n",
       "    </tr>\n",
       "    <tr>\n",
       "      <td>3</td>\n",
       "      <td>10032.0</td>\n",
       "      <td>29746</td>\n",
       "    </tr>\n",
       "    <tr>\n",
       "      <td>4</td>\n",
       "      <td>10040.0</td>\n",
       "      <td>29684</td>\n",
       "    </tr>\n",
       "    <tr>\n",
       "      <td>5</td>\n",
       "      <td>10468.0</td>\n",
       "      <td>29214</td>\n",
       "    </tr>\n",
       "    <tr>\n",
       "      <td>6</td>\n",
       "      <td>10034.0</td>\n",
       "      <td>26567</td>\n",
       "    </tr>\n",
       "    <tr>\n",
       "      <td>7</td>\n",
       "      <td>10452.0</td>\n",
       "      <td>25670</td>\n",
       "    </tr>\n",
       "    <tr>\n",
       "      <td>8</td>\n",
       "      <td>10456.0</td>\n",
       "      <td>25610</td>\n",
       "    </tr>\n",
       "    <tr>\n",
       "      <td>9</td>\n",
       "      <td>10458.0</td>\n",
       "      <td>25315</td>\n",
       "    </tr>\n",
       "  </tbody>\n",
       "</table>\n",
       "</div>"
      ],
      "text/plain": [
       "   incident_zip  count\n",
       "0       11226.0  36045\n",
       "1       10031.0  33002\n",
       "2       10467.0  31054\n",
       "3       10032.0  29746\n",
       "4       10040.0  29684\n",
       "5       10468.0  29214\n",
       "6       10034.0  26567\n",
       "7       10452.0  25670\n",
       "8       10456.0  25610\n",
       "9       10458.0  25315"
      ]
     },
     "execution_count": 11,
     "metadata": {},
     "output_type": "execute_result"
    }
   ],
   "source": [
    "#We will explore which zips have the most noise complaints.\n",
    "# Keep only the Category and the zips column\n",
    "df_noise_zips = df_noise.filter(items=['complaint_type', 'incident_zip'])\n",
    "df_noise_zips = df_noise_zips[df_noise_zips['incident_zip'].isin(zips)]\n",
    "\n",
    "# List the number of complaints per zips\n",
    "complaint_freq_dist = df_noise_zips.groupby('incident_zip')['incident_zip'].count(\n",
    ").reset_index(name='count').sort_values(by='count', ascending=0)\n",
    "\n",
    "# Print the zips with the most noise complaints\n",
    "print('The zips with the most noise complains are:\\n')\n",
    "complaint_freq_dist = complaint_freq_dist.reset_index().drop('index',axis=1)\n",
    "complaint_freq_dist.head(10)"
   ]
  },
  {
   "cell_type": "code",
   "execution_count": 12,
   "metadata": {},
   "outputs": [
    {
     "name": "stdout",
     "output_type": "stream",
     "text": [
      "Most noisy zips [11226.0, 10031.0, 10467.0, 10032.0, 10040.0, 10468.0, 10034.0, 10452.0, 10456.0, 10458.0]\n"
     ]
    }
   ],
   "source": [
    "# Keep the most noisy districts in a seperate list.\n",
    "noisy_zips = [i for i in complaint_freq_dist['incident_zip'][:10]]\n",
    "print(\"Most noisy zips\", noisy_zips)"
   ]
  },
  {
   "cell_type": "code",
   "execution_count": 13,
   "metadata": {},
   "outputs": [],
   "source": [
    "#focus only on noisy zips\n",
    "df_noise_focus = df_noise[df_noise['incident_zip'].isin(noisy_zips)]"
   ]
  },
  {
   "cell_type": "code",
   "execution_count": 14,
   "metadata": {},
   "outputs": [
    {
     "data": {
      "text/html": [
       "<div>\n",
       "<style scoped>\n",
       "    .dataframe tbody tr th:only-of-type {\n",
       "        vertical-align: middle;\n",
       "    }\n",
       "\n",
       "    .dataframe tbody tr th {\n",
       "        vertical-align: top;\n",
       "    }\n",
       "\n",
       "    .dataframe thead th {\n",
       "        text-align: right;\n",
       "    }\n",
       "</style>\n",
       "<table border=\"1\" class=\"dataframe\">\n",
       "  <thead>\n",
       "    <tr style=\"text-align: right;\">\n",
       "      <th></th>\n",
       "      <th>unique_key</th>\n",
       "      <th>created_date</th>\n",
       "      <th>closed_date</th>\n",
       "      <th>agency</th>\n",
       "      <th>agency_name</th>\n",
       "      <th>complaint_type</th>\n",
       "      <th>descriptor</th>\n",
       "      <th>location_type</th>\n",
       "      <th>incident_zip</th>\n",
       "      <th>city</th>\n",
       "      <th>bbl</th>\n",
       "      <th>latitude</th>\n",
       "      <th>longitude</th>\n",
       "      <th>location</th>\n",
       "      <th>created_year</th>\n",
       "      <th>closed_year</th>\n",
       "    </tr>\n",
       "  </thead>\n",
       "  <tbody>\n",
       "    <tr>\n",
       "      <td>139</td>\n",
       "      <td>20123360</td>\n",
       "      <td>03/28/2011 08:53:56 AM</td>\n",
       "      <td>03/28/2011 10:40:26 AM</td>\n",
       "      <td>NYPD</td>\n",
       "      <td>New York City Police Department</td>\n",
       "      <td>Noise  Residential</td>\n",
       "      <td>Loud Music/Party</td>\n",
       "      <td>Residential Building/House</td>\n",
       "      <td>11226.0</td>\n",
       "      <td>BROOKLYN</td>\n",
       "      <td>3.050820e+09</td>\n",
       "      <td>40.651624</td>\n",
       "      <td>-73.960235</td>\n",
       "      <td>(40.65162381847338, -73.96023526159061)</td>\n",
       "      <td>2011</td>\n",
       "      <td>2011</td>\n",
       "    </tr>\n",
       "    <tr>\n",
       "      <td>143</td>\n",
       "      <td>20123364</td>\n",
       "      <td>03/28/2011 11:53:22 PM</td>\n",
       "      <td>03/29/2011 12:55:03 AM</td>\n",
       "      <td>NYPD</td>\n",
       "      <td>New York City Police Department</td>\n",
       "      <td>Noise  Residential</td>\n",
       "      <td>Loud Music/Party</td>\n",
       "      <td>Residential Building/House</td>\n",
       "      <td>10452.0</td>\n",
       "      <td>BRONX</td>\n",
       "      <td>2.028410e+09</td>\n",
       "      <td>40.838477</td>\n",
       "      <td>-73.916792</td>\n",
       "      <td>(40.83847687349654, -73.91679220209002)</td>\n",
       "      <td>2011</td>\n",
       "      <td>2011</td>\n",
       "    </tr>\n",
       "    <tr>\n",
       "      <td>149</td>\n",
       "      <td>20123369</td>\n",
       "      <td>03/29/2011 12:09:29 AM</td>\n",
       "      <td>03/29/2011 01:26:40 AM</td>\n",
       "      <td>NYPD</td>\n",
       "      <td>New York City Police Department</td>\n",
       "      <td>Noise  Residential</td>\n",
       "      <td>Loud Music/Party</td>\n",
       "      <td>Residential Building/House</td>\n",
       "      <td>10040.0</td>\n",
       "      <td>NEW YORK</td>\n",
       "      <td>1.021740e+09</td>\n",
       "      <td>40.861169</td>\n",
       "      <td>-73.927678</td>\n",
       "      <td>(40.8611692009135, -73.92767807904268)</td>\n",
       "      <td>2011</td>\n",
       "      <td>2011</td>\n",
       "    </tr>\n",
       "    <tr>\n",
       "      <td>154</td>\n",
       "      <td>20123374</td>\n",
       "      <td>03/28/2011 11:12:10 PM</td>\n",
       "      <td>03/29/2011 12:31:39 AM</td>\n",
       "      <td>NYPD</td>\n",
       "      <td>New York City Police Department</td>\n",
       "      <td>Noise  Residential</td>\n",
       "      <td>Loud Television</td>\n",
       "      <td>Residential Building/House</td>\n",
       "      <td>10467.0</td>\n",
       "      <td>BRONX</td>\n",
       "      <td>2.043370e+09</td>\n",
       "      <td>40.858516</td>\n",
       "      <td>-73.869540</td>\n",
       "      <td>(40.85851613343683, -73.86954011309079)</td>\n",
       "      <td>2011</td>\n",
       "      <td>2011</td>\n",
       "    </tr>\n",
       "    <tr>\n",
       "      <td>1014</td>\n",
       "      <td>30932618</td>\n",
       "      <td>06/25/2015 12:55:27 PM</td>\n",
       "      <td>06/25/2015 02:28:23 PM</td>\n",
       "      <td>NYPD</td>\n",
       "      <td>New York City Police Department</td>\n",
       "      <td>Noise  StreetSidewalk</td>\n",
       "      <td>Loud Music/Party</td>\n",
       "      <td>Street/Sidewalk</td>\n",
       "      <td>10468.0</td>\n",
       "      <td>BRONX</td>\n",
       "      <td>2.033100e+09</td>\n",
       "      <td>40.872514</td>\n",
       "      <td>-73.887534</td>\n",
       "      <td>(40.87251382811215, -73.88753385727848)</td>\n",
       "      <td>2015</td>\n",
       "      <td>2015</td>\n",
       "    </tr>\n",
       "  </tbody>\n",
       "</table>\n",
       "</div>"
      ],
      "text/plain": [
       "      unique_key            created_date             closed_date agency  \\\n",
       "139     20123360  03/28/2011 08:53:56 AM  03/28/2011 10:40:26 AM   NYPD   \n",
       "143     20123364  03/28/2011 11:53:22 PM  03/29/2011 12:55:03 AM   NYPD   \n",
       "149     20123369  03/29/2011 12:09:29 AM  03/29/2011 01:26:40 AM   NYPD   \n",
       "154     20123374  03/28/2011 11:12:10 PM  03/29/2011 12:31:39 AM   NYPD   \n",
       "1014    30932618  06/25/2015 12:55:27 PM  06/25/2015 02:28:23 PM   NYPD   \n",
       "\n",
       "                          agency_name         complaint_type  \\\n",
       "139   New York City Police Department     Noise  Residential   \n",
       "143   New York City Police Department     Noise  Residential   \n",
       "149   New York City Police Department     Noise  Residential   \n",
       "154   New York City Police Department     Noise  Residential   \n",
       "1014  New York City Police Department  Noise  StreetSidewalk   \n",
       "\n",
       "            descriptor               location_type  incident_zip      city  \\\n",
       "139   Loud Music/Party  Residential Building/House       11226.0  BROOKLYN   \n",
       "143   Loud Music/Party  Residential Building/House       10452.0     BRONX   \n",
       "149   Loud Music/Party  Residential Building/House       10040.0  NEW YORK   \n",
       "154    Loud Television  Residential Building/House       10467.0     BRONX   \n",
       "1014  Loud Music/Party             Street/Sidewalk       10468.0     BRONX   \n",
       "\n",
       "               bbl   latitude  longitude  \\\n",
       "139   3.050820e+09  40.651624 -73.960235   \n",
       "143   2.028410e+09  40.838477 -73.916792   \n",
       "149   1.021740e+09  40.861169 -73.927678   \n",
       "154   2.043370e+09  40.858516 -73.869540   \n",
       "1014  2.033100e+09  40.872514 -73.887534   \n",
       "\n",
       "                                     location  created_year  closed_year  \n",
       "139   (40.65162381847338, -73.96023526159061)          2011         2011  \n",
       "143   (40.83847687349654, -73.91679220209002)          2011         2011  \n",
       "149    (40.8611692009135, -73.92767807904268)          2011         2011  \n",
       "154   (40.85851613343683, -73.86954011309079)          2011         2011  \n",
       "1014  (40.87251382811215, -73.88753385727848)          2015         2015  "
      ]
     },
     "execution_count": 14,
     "metadata": {},
     "output_type": "execute_result"
    }
   ],
   "source": [
    "df_noise_focus.head()"
   ]
  },
  {
   "cell_type": "code",
   "execution_count": 15,
   "metadata": {},
   "outputs": [],
   "source": [
    "df_noise_focus = df_noise_focus.dropna(subset=['latitude'])\n",
    "df_noise_focus = df_noise_focus.dropna(subset=['longitude'])"
   ]
  },
  {
   "cell_type": "markdown",
   "metadata": {},
   "source": [
    "## Plot concentration of noise complaints with lat/long of incident"
   ]
  },
  {
   "cell_type": "code",
   "execution_count": 17,
   "metadata": {
    "scrolled": true
   },
   "outputs": [
    {
     "data": {
      "text/plain": [
       "(-73.97173593629704, -73.85721528506248, 40.63438479278872, 40.886431438151796)"
      ]
     },
     "execution_count": 17,
     "metadata": {},
     "output_type": "execute_result"
    },
    {
     "data": {
      "image/png": "[encoded data removed]",
      "text/plain": [
       "<Figure size 720x432 with 2 Axes>"
      ]
     },
     "metadata": {
      "needs_background": "light"
     },
     "output_type": "display_data"
    }
   ],
   "source": [
    "df_noise_focus.plot(kind='hexbin', x='longitude', y='latitude', gridsize=40,\n",
    "    colormap = 'jet',mincnt=1,title = 'Noise Complaints concentration zips', figsize=(10,6)).axis('equal')"
   ]
  },
  {
   "cell_type": "markdown",
   "metadata": {},
   "source": [
    "## Observe that for a given complaint type and zip code, has the number of incidents drastically changed over year "
   ]
  },
  {
   "cell_type": "code",
   "execution_count": 37,
   "metadata": {},
   "outputs": [],
   "source": [
    "# calculate count for year 2011\n",
    "df_2011 = df_noise_focus.loc[df_noise_focus['created_year'] == 2011]\n",
    "complaint_zip_2011 = df_2011.groupby('incident_zip')['incident_zip'].count(\n",
    ").reset_index(name='2011_count').sort_values(by='2011_count', ascending=0)"
   ]
  },
  {
   "cell_type": "code",
   "execution_count": 38,
   "metadata": {},
   "outputs": [],
   "source": [
    "# calculate count for year 2015\n",
    "df_2015 = df_noise_focus.loc[df_noise_focus['created_year'] == 2015]\n",
    "complaint_zip_2015 = df_2015.groupby('incident_zip')['incident_zip'].count(\n",
    ").reset_index(name='2015_count').sort_values(by='2015_count', ascending=0)"
   ]
  },
  {
   "cell_type": "code",
   "execution_count": 35,
   "metadata": {},
   "outputs": [
    {
     "data": {
      "text/html": [
       "<div>\n",
       "<style scoped>\n",
       "    .dataframe tbody tr th:only-of-type {\n",
       "        vertical-align: middle;\n",
       "    }\n",
       "\n",
       "    .dataframe tbody tr th {\n",
       "        vertical-align: top;\n",
       "    }\n",
       "\n",
       "    .dataframe thead th {\n",
       "        text-align: right;\n",
       "    }\n",
       "</style>\n",
       "<table border=\"1\" class=\"dataframe\">\n",
       "  <thead>\n",
       "    <tr style=\"text-align: right;\">\n",
       "      <th></th>\n",
       "      <th>incident_zip</th>\n",
       "      <th>2011_count</th>\n",
       "      <th>2015_count</th>\n",
       "    </tr>\n",
       "  </thead>\n",
       "  <tbody>\n",
       "    <tr>\n",
       "      <td>0</td>\n",
       "      <td>10467.0</td>\n",
       "      <td>2446</td>\n",
       "      <td>5024</td>\n",
       "    </tr>\n",
       "    <tr>\n",
       "      <td>1</td>\n",
       "      <td>11226.0</td>\n",
       "      <td>2313</td>\n",
       "      <td>6307</td>\n",
       "    </tr>\n",
       "    <tr>\n",
       "      <td>2</td>\n",
       "      <td>10032.0</td>\n",
       "      <td>2090</td>\n",
       "      <td>5301</td>\n",
       "    </tr>\n",
       "    <tr>\n",
       "      <td>3</td>\n",
       "      <td>10031.0</td>\n",
       "      <td>1997</td>\n",
       "      <td>5864</td>\n",
       "    </tr>\n",
       "    <tr>\n",
       "      <td>4</td>\n",
       "      <td>10468.0</td>\n",
       "      <td>1964</td>\n",
       "      <td>4591</td>\n",
       "    </tr>\n",
       "    <tr>\n",
       "      <td>5</td>\n",
       "      <td>10458.0</td>\n",
       "      <td>1849</td>\n",
       "      <td>4001</td>\n",
       "    </tr>\n",
       "    <tr>\n",
       "      <td>6</td>\n",
       "      <td>10456.0</td>\n",
       "      <td>1661</td>\n",
       "      <td>4465</td>\n",
       "    </tr>\n",
       "    <tr>\n",
       "      <td>7</td>\n",
       "      <td>10452.0</td>\n",
       "      <td>1556</td>\n",
       "      <td>4101</td>\n",
       "    </tr>\n",
       "    <tr>\n",
       "      <td>8</td>\n",
       "      <td>10040.0</td>\n",
       "      <td>1382</td>\n",
       "      <td>5796</td>\n",
       "    </tr>\n",
       "    <tr>\n",
       "      <td>9</td>\n",
       "      <td>10034.0</td>\n",
       "      <td>1128</td>\n",
       "      <td>5073</td>\n",
       "    </tr>\n",
       "  </tbody>\n",
       "</table>\n",
       "</div>"
      ],
      "text/plain": [
       "   incident_zip  2011_count  2015_count\n",
       "0       10467.0        2446        5024\n",
       "1       11226.0        2313        6307\n",
       "2       10032.0        2090        5301\n",
       "3       10031.0        1997        5864\n",
       "4       10468.0        1964        4591\n",
       "5       10458.0        1849        4001\n",
       "6       10456.0        1661        4465\n",
       "7       10452.0        1556        4101\n",
       "8       10040.0        1382        5796\n",
       "9       10034.0        1128        5073"
      ]
     },
     "execution_count": 35,
     "metadata": {},
     "output_type": "execute_result"
    }
   ],
   "source": [
    "df_merge = pd.merge(complaint_zip_2011, complaint_zip_2015, on=\"incident_zip\")\n",
    "df_merge"
   ]
  },
  {
   "cell_type": "code",
   "execution_count": 36,
   "metadata": {},
   "outputs": [
    {
     "data": {
      "text/plain": [
       "<matplotlib.axes._subplots.AxesSubplot at 0x7f4c3fdf6240>"
      ]
     },
     "execution_count": 36,
     "metadata": {},
     "output_type": "execute_result"
    },
    {
     "data": {
      "image/png": "[encoded data removed]",
      "text/plain": [
       "<Figure size 432x288 with 1 Axes>"
      ]
     },
     "metadata": {
      "needs_background": "light"
     },
     "output_type": "display_data"
    }
   ],
   "source": [
    "df_merge.plot.bar(x = 'incident_zip', y = ['2011_count', '2015_count'], rot = 40)"
   ]
  },
  {
   "cell_type": "markdown",
   "metadata": {},
   "source": [
    "## We can analyse from the above bar plot the number of noise complaints have drastically increased over year( 2011 to 2015) but that similarity between zipcode hasn't changed. The zipcode 11226 and 10032 still is closer in terms of noise complaint counts"
   ]
  },
  {
   "cell_type": "code",
   "execution_count": 39,
   "metadata": {},
   "outputs": [
    {
     "data": {
      "text/plain": [
       "(-73.9668496318017, -73.85762727760755, 40.63470321119241, 40.88623860099504)"
      ]
     },
     "execution_count": 39,
     "metadata": {},
     "output_type": "execute_result"
    },
    {
     "data": {
      "image/png": "[encoded data removed]",
      "text/plain": [
       "<Figure size 720x432 with 2 Axes>"
      ]
     },
     "metadata": {
      "needs_background": "light"
     },
     "output_type": "display_data"
    }
   ],
   "source": [
    "df_2011.plot(kind='hexbin', x='longitude', y='latitude', gridsize=40,\n",
    "    colormap = 'jet',mincnt=1,title = 'Noise Complaints concentration zips in 2011', figsize=(10,6)).axis('equal')"
   ]
  },
  {
   "cell_type": "code",
   "execution_count": 40,
   "metadata": {},
   "outputs": [
    {
     "data": {
      "text/plain": [
       "(-73.96707474234616, -73.85750795969527, 40.63438479278872, 40.88641491035007)"
      ]
     },
     "execution_count": 40,
     "metadata": {},
     "output_type": "execute_result"
    },
    {
     "data": {
      "image/png": "[encoded data removed]",
      "text/plain": [
       "<Figure size 720x432 with 2 Axes>"
      ]
     },
     "metadata": {
      "needs_background": "light"
     },
     "output_type": "display_data"
    }
   ],
   "source": [
    "df_2015.plot(kind='hexbin', x='longitude', y='latitude', gridsize=40,\n",
    "    colormap = 'jet',mincnt=1,title = 'Noise Complaints concentration zips in 2011', figsize=(10,6)).axis('equal')"
   ]
  },
  {
   "cell_type": "code",
   "execution_count": null,
   "metadata": {},
   "outputs": [],
   "source": []
  }
 ],
 "metadata": {
  "kernelspec": {
   "display_name": "Python (env-gpu)",
   "language": "python",
   "name": "env-gpu"
  },
  "language_info": {
   "codemirror_mode": {
    "name": "ipython",
    "version": 3
   },
   "file_extension": ".py",
   "mimetype": "text/x-python",
   "name": "python",
   "nbconvert_exporter": "python",
   "pygments_lexer": "ipython3",
   "version": "3.6.9"
  }
 },
 "nbformat": 4,
 "nbformat_minor": 2
}
